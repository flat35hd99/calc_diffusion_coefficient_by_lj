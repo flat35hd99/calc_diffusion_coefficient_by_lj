{
  "nbformat": 4,
  "nbformat_minor": 0,
  "metadata": {
    "colab": {
      "name": "calc_diffusion_improved.ipynb",
      "provenance": [],
      "collapsed_sections": [],
      "authorship_tag": "ABX9TyNNsSERuzRS0SZ1LTNmT2gR",
      "include_colab_link": true
    },
    "kernelspec": {
      "name": "python3",
      "display_name": "Python 3"
    },
    "language_info": {
      "name": "python"
    }
  },
  "cells": [
    {
      "cell_type": "markdown",
      "metadata": {
        "id": "view-in-github",
        "colab_type": "text"
      },
      "source": [
        "<a href=\"https://colab.research.google.com/github/flat35hd99/calc_diffusion_coefficient_by_lj/blob/main/calc_diffusion_improved.ipynb\" target=\"_parent\"><img src=\"https://colab.research.google.com/assets/colab-badge.svg\" alt=\"Open In Colab\"/></a>"
      ]
    },
    {
      "cell_type": "code",
      "metadata": {
        "colab": {
          "base_uri": "https://localhost:8080/"
        },
        "id": "XgEsY1N7XwZg",
        "outputId": "a57d9d79-b671-4dfb-e9ed-e87daf77ac0c"
      },
      "source": [
        "!git clone https://github.com/flat35hd99/calc_diffusion_coefficient_by_lj.git \"calc\""
      ],
      "execution_count": null,
      "outputs": [
        {
          "output_type": "stream",
          "text": [
            "Cloning into 'calc'...\n",
            "remote: Enumerating objects: 74, done.\u001b[K\n",
            "remote: Counting objects: 100% (74/74), done.\u001b[K\n",
            "remote: Compressing objects: 100% (36/36), done.\u001b[K\n",
            "remote: Total 74 (delta 39), reused 65 (delta 33), pack-reused 0\u001b[K\n",
            "Unpacking objects: 100% (74/74), done.\n"
          ],
          "name": "stdout"
        }
      ]
    },
    {
      "cell_type": "code",
      "metadata": {
        "colab": {
          "base_uri": "https://localhost:8080/"
        },
        "id": "_1aThr7qe1h1",
        "outputId": "1fcad2c4-54f5-42cf-fe2c-8c68b2780d6e"
      },
      "source": [
        "%%bash\n",
        "cd calc\n",
        "mkdir output\n",
        "make\n",
        "time ./a.out > output/energy.dot "
      ],
      "execution_count": null,
      "outputs": [
        {
          "output_type": "stream",
          "text": [
            "g++ -std=c++11 -march=native -Wall -Wextra -O3 -c main.cpp \n",
            "g++ -std=c++11 -march=native -Wall -Wextra -O3 -c md.cpp \n",
            "g++ -std=c++11 -march=native -Wall -Wextra -O3 -c observer.cpp \n",
            "g++ -std=c++11 -march=native -Wall -Wextra -O3 -c systemparam.cpp \n",
            "g++ -std=c++11 -march=native -Wall -Wextra -O3 -c variables.cpp \n",
            "g++ -std=c++11 -march=native -Wall -Wextra -O3  -o a.out main.o md.o observer.o systemparam.o variables.o\n"
          ],
          "name": "stdout"
        },
        {
          "output_type": "stream",
          "text": [
            "\n",
            "real\t0m11.191s\n",
            "user\t0m10.858s\n",
            "sys\t0m0.273s\n"
          ],
          "name": "stderr"
        }
      ]
    },
    {
      "cell_type": "code",
      "metadata": {
        "id": "iYNlY5w_kXTA"
      },
      "source": [
        "import matplotlib.pyplot as plt\n",
        "import pandas as pd\n",
        " \n",
        "energy_df = pd.read_table('calc/output/energy.dot', header=None, delim_whitespace=True, names=['step','K', 'V', 'total']).drop('step', axis=1)\n",
        "velocity_df = pd.read_csv(\"calc/output/velocity.csv\", header=0).drop('index', axis=1)"
      ],
      "execution_count": null,
      "outputs": []
    },
    {
      "cell_type": "code",
      "metadata": {
        "colab": {
          "base_uri": "https://localhost:8080/",
          "height": 269
        },
        "id": "oUELoPLJlwoV",
        "outputId": "9c46b675-6700-4266-e8d9-2f9b7f0eff3e"
      },
      "source": [
        "velocity_df.head()"
      ],
      "execution_count": null,
      "outputs": [
        {
          "output_type": "execute_result",
          "data": {
            "text/html": [
              "<div>\n",
              "<style scoped>\n",
              "    .dataframe tbody tr th:only-of-type {\n",
              "        vertical-align: middle;\n",
              "    }\n",
              "\n",
              "    .dataframe tbody tr th {\n",
              "        vertical-align: top;\n",
              "    }\n",
              "\n",
              "    .dataframe thead th {\n",
              "        text-align: right;\n",
              "    }\n",
              "</style>\n",
              "<table border=\"1\" class=\"dataframe\">\n",
              "  <thead>\n",
              "    <tr style=\"text-align: right;\">\n",
              "      <th></th>\n",
              "      <th>px0</th>\n",
              "      <th>py0</th>\n",
              "      <th>pz0</th>\n",
              "      <th>px1</th>\n",
              "      <th>py1</th>\n",
              "      <th>pz1</th>\n",
              "      <th>px2</th>\n",
              "      <th>py2</th>\n",
              "      <th>pz2</th>\n",
              "      <th>px3</th>\n",
              "      <th>py3</th>\n",
              "      <th>pz3</th>\n",
              "      <th>px4</th>\n",
              "      <th>py4</th>\n",
              "      <th>pz4</th>\n",
              "      <th>px5</th>\n",
              "      <th>py5</th>\n",
              "      <th>pz5</th>\n",
              "      <th>px6</th>\n",
              "      <th>py6</th>\n",
              "      <th>pz6</th>\n",
              "      <th>px7</th>\n",
              "      <th>py7</th>\n",
              "      <th>pz7</th>\n",
              "      <th>px8</th>\n",
              "      <th>py8</th>\n",
              "      <th>pz8</th>\n",
              "      <th>px9</th>\n",
              "      <th>py9</th>\n",
              "      <th>pz9</th>\n",
              "      <th>px10</th>\n",
              "      <th>py10</th>\n",
              "      <th>pz10</th>\n",
              "      <th>px11</th>\n",
              "      <th>py11</th>\n",
              "      <th>pz11</th>\n",
              "      <th>px12</th>\n",
              "      <th>py12</th>\n",
              "      <th>pz12</th>\n",
              "      <th>px13</th>\n",
              "      <th>...</th>\n",
              "      <th>px487</th>\n",
              "      <th>py487</th>\n",
              "      <th>pz487</th>\n",
              "      <th>px488</th>\n",
              "      <th>py488</th>\n",
              "      <th>pz488</th>\n",
              "      <th>px489</th>\n",
              "      <th>py489</th>\n",
              "      <th>pz489</th>\n",
              "      <th>px490</th>\n",
              "      <th>py490</th>\n",
              "      <th>pz490</th>\n",
              "      <th>px491</th>\n",
              "      <th>py491</th>\n",
              "      <th>pz491</th>\n",
              "      <th>px492</th>\n",
              "      <th>py492</th>\n",
              "      <th>pz492</th>\n",
              "      <th>px493</th>\n",
              "      <th>py493</th>\n",
              "      <th>pz493</th>\n",
              "      <th>px494</th>\n",
              "      <th>py494</th>\n",
              "      <th>pz494</th>\n",
              "      <th>px495</th>\n",
              "      <th>py495</th>\n",
              "      <th>pz495</th>\n",
              "      <th>px496</th>\n",
              "      <th>py496</th>\n",
              "      <th>pz496</th>\n",
              "      <th>px497</th>\n",
              "      <th>py497</th>\n",
              "      <th>pz497</th>\n",
              "      <th>px498</th>\n",
              "      <th>py498</th>\n",
              "      <th>pz498</th>\n",
              "      <th>px499</th>\n",
              "      <th>py499</th>\n",
              "      <th>pz499</th>\n",
              "      <th>Unnamed: 1501</th>\n",
              "    </tr>\n",
              "  </thead>\n",
              "  <tbody>\n",
              "    <tr>\n",
              "      <th>0</th>\n",
              "      <td>0.729257</td>\n",
              "      <td>-0.308426</td>\n",
              "      <td>-0.596371</td>\n",
              "      <td>-0.419814</td>\n",
              "      <td>0.058059</td>\n",
              "      <td>0.928926</td>\n",
              "      <td>0.550690</td>\n",
              "      <td>0.785543</td>\n",
              "      <td>-0.325463</td>\n",
              "      <td>0.692311</td>\n",
              "      <td>0.643337</td>\n",
              "      <td>0.431190</td>\n",
              "      <td>-0.648328</td>\n",
              "      <td>-0.724840</td>\n",
              "      <td>0.003816</td>\n",
              "      <td>-0.291799</td>\n",
              "      <td>-0.688555</td>\n",
              "      <td>0.669918</td>\n",
              "      <td>-0.831653</td>\n",
              "      <td>-0.503256</td>\n",
              "      <td>0.030587</td>\n",
              "      <td>-0.024655</td>\n",
              "      <td>0.912428</td>\n",
              "      <td>0.472973</td>\n",
              "      <td>-0.808286</td>\n",
              "      <td>0.563147</td>\n",
              "      <td>0.125879</td>\n",
              "      <td>0.772742</td>\n",
              "      <td>-0.129292</td>\n",
              "      <td>-0.612566</td>\n",
              "      <td>-0.192118</td>\n",
              "      <td>0.903611</td>\n",
              "      <td>-0.372499</td>\n",
              "      <td>0.289862</td>\n",
              "      <td>0.598312</td>\n",
              "      <td>-0.734149</td>\n",
              "      <td>-0.892491</td>\n",
              "      <td>-0.386060</td>\n",
              "      <td>0.022044</td>\n",
              "      <td>0.114423</td>\n",
              "      <td>...</td>\n",
              "      <td>0.739697</td>\n",
              "      <td>0.362851</td>\n",
              "      <td>-0.571579</td>\n",
              "      <td>-0.898670</td>\n",
              "      <td>0.304302</td>\n",
              "      <td>-0.224563</td>\n",
              "      <td>0.135223</td>\n",
              "      <td>0.366470</td>\n",
              "      <td>-0.896196</td>\n",
              "      <td>-0.920540</td>\n",
              "      <td>-0.078423</td>\n",
              "      <td>-0.283365</td>\n",
              "      <td>-0.880047</td>\n",
              "      <td>-0.262134</td>\n",
              "      <td>-0.293537</td>\n",
              "      <td>0.150471</td>\n",
              "      <td>-0.918985</td>\n",
              "      <td>-0.299129</td>\n",
              "      <td>0.149230</td>\n",
              "      <td>-0.401354</td>\n",
              "      <td>0.933684</td>\n",
              "      <td>-0.824685</td>\n",
              "      <td>0.074543</td>\n",
              "      <td>0.560209</td>\n",
              "      <td>0.992392</td>\n",
              "      <td>-0.086766</td>\n",
              "      <td>-0.190983</td>\n",
              "      <td>0.827300</td>\n",
              "      <td>-0.069497</td>\n",
              "      <td>-0.555040</td>\n",
              "      <td>0.051939</td>\n",
              "      <td>0.783969</td>\n",
              "      <td>0.672672</td>\n",
              "      <td>0.546383</td>\n",
              "      <td>0.430338</td>\n",
              "      <td>0.777945</td>\n",
              "      <td>0.217456</td>\n",
              "      <td>-0.884600</td>\n",
              "      <td>-0.356628</td>\n",
              "      <td>NaN</td>\n",
              "    </tr>\n",
              "    <tr>\n",
              "      <th>1</th>\n",
              "      <td>0.667783</td>\n",
              "      <td>-0.278821</td>\n",
              "      <td>-0.582226</td>\n",
              "      <td>-0.360977</td>\n",
              "      <td>0.059085</td>\n",
              "      <td>0.934343</td>\n",
              "      <td>0.552877</td>\n",
              "      <td>0.769193</td>\n",
              "      <td>-0.327090</td>\n",
              "      <td>0.696254</td>\n",
              "      <td>0.647770</td>\n",
              "      <td>0.399463</td>\n",
              "      <td>-0.632176</td>\n",
              "      <td>-0.686107</td>\n",
              "      <td>0.022067</td>\n",
              "      <td>-0.300664</td>\n",
              "      <td>-0.690766</td>\n",
              "      <td>0.671171</td>\n",
              "      <td>-0.835523</td>\n",
              "      <td>-0.518325</td>\n",
              "      <td>0.033322</td>\n",
              "      <td>-0.024897</td>\n",
              "      <td>0.916851</td>\n",
              "      <td>0.455926</td>\n",
              "      <td>-0.740365</td>\n",
              "      <td>0.542866</td>\n",
              "      <td>0.116879</td>\n",
              "      <td>0.720797</td>\n",
              "      <td>-0.132690</td>\n",
              "      <td>-0.616890</td>\n",
              "      <td>-0.192975</td>\n",
              "      <td>0.861262</td>\n",
              "      <td>-0.375468</td>\n",
              "      <td>0.294447</td>\n",
              "      <td>0.601088</td>\n",
              "      <td>-0.699391</td>\n",
              "      <td>-0.845932</td>\n",
              "      <td>-0.367692</td>\n",
              "      <td>-0.002432</td>\n",
              "      <td>0.103443</td>\n",
              "      <td>...</td>\n",
              "      <td>0.744619</td>\n",
              "      <td>0.365471</td>\n",
              "      <td>-0.574689</td>\n",
              "      <td>-0.856281</td>\n",
              "      <td>0.277678</td>\n",
              "      <td>-0.232805</td>\n",
              "      <td>0.133598</td>\n",
              "      <td>0.367122</td>\n",
              "      <td>-0.899858</td>\n",
              "      <td>-0.922778</td>\n",
              "      <td>-0.073776</td>\n",
              "      <td>-0.285762</td>\n",
              "      <td>-0.883843</td>\n",
              "      <td>-0.260115</td>\n",
              "      <td>-0.292417</td>\n",
              "      <td>0.169489</td>\n",
              "      <td>-0.894952</td>\n",
              "      <td>-0.301168</td>\n",
              "      <td>0.143893</td>\n",
              "      <td>-0.401788</td>\n",
              "      <td>0.937677</td>\n",
              "      <td>-0.827703</td>\n",
              "      <td>0.068262</td>\n",
              "      <td>0.562671</td>\n",
              "      <td>0.995650</td>\n",
              "      <td>-0.085708</td>\n",
              "      <td>-0.201011</td>\n",
              "      <td>0.796915</td>\n",
              "      <td>-0.054919</td>\n",
              "      <td>-0.550339</td>\n",
              "      <td>0.085250</td>\n",
              "      <td>0.787963</td>\n",
              "      <td>0.674210</td>\n",
              "      <td>0.548767</td>\n",
              "      <td>0.389061</td>\n",
              "      <td>0.782930</td>\n",
              "      <td>0.217042</td>\n",
              "      <td>-0.887995</td>\n",
              "      <td>-0.364689</td>\n",
              "      <td>NaN</td>\n",
              "    </tr>\n",
              "    <tr>\n",
              "      <th>2</th>\n",
              "      <td>0.499080</td>\n",
              "      <td>-0.195798</td>\n",
              "      <td>-0.543466</td>\n",
              "      <td>-0.201134</td>\n",
              "      <td>0.062204</td>\n",
              "      <td>0.947476</td>\n",
              "      <td>0.555947</td>\n",
              "      <td>0.722641</td>\n",
              "      <td>-0.328466</td>\n",
              "      <td>0.704872</td>\n",
              "      <td>0.657118</td>\n",
              "      <td>0.313770</td>\n",
              "      <td>-0.583576</td>\n",
              "      <td>-0.568772</td>\n",
              "      <td>0.071666</td>\n",
              "      <td>-0.325786</td>\n",
              "      <td>-0.693961</td>\n",
              "      <td>0.674824</td>\n",
              "      <td>-0.843811</td>\n",
              "      <td>-0.555652</td>\n",
              "      <td>0.037975</td>\n",
              "      <td>-0.022184</td>\n",
              "      <td>0.926087</td>\n",
              "      <td>0.402848</td>\n",
              "      <td>-0.545275</td>\n",
              "      <td>0.487318</td>\n",
              "      <td>0.084526</td>\n",
              "      <td>0.577746</td>\n",
              "      <td>-0.139082</td>\n",
              "      <td>-0.626392</td>\n",
              "      <td>-0.196971</td>\n",
              "      <td>0.721848</td>\n",
              "      <td>-0.380984</td>\n",
              "      <td>0.304513</td>\n",
              "      <td>0.605420</td>\n",
              "      <td>-0.594451</td>\n",
              "      <td>-0.702021</td>\n",
              "      <td>-0.317219</td>\n",
              "      <td>-0.067205</td>\n",
              "      <td>0.075800</td>\n",
              "      <td>...</td>\n",
              "      <td>0.755130</td>\n",
              "      <td>0.369631</td>\n",
              "      <td>-0.577974</td>\n",
              "      <td>-0.729018</td>\n",
              "      <td>0.199364</td>\n",
              "      <td>-0.261243</td>\n",
              "      <td>0.127070</td>\n",
              "      <td>0.368948</td>\n",
              "      <td>-0.906480</td>\n",
              "      <td>-0.926084</td>\n",
              "      <td>-0.060045</td>\n",
              "      <td>-0.289296</td>\n",
              "      <td>-0.891725</td>\n",
              "      <td>-0.257686</td>\n",
              "      <td>-0.289177</td>\n",
              "      <td>0.220425</td>\n",
              "      <td>-0.826751</td>\n",
              "      <td>-0.307772</td>\n",
              "      <td>0.127689</td>\n",
              "      <td>-0.403218</td>\n",
              "      <td>0.946105</td>\n",
              "      <td>-0.835635</td>\n",
              "      <td>0.049499</td>\n",
              "      <td>0.569143</td>\n",
              "      <td>1.001830</td>\n",
              "      <td>-0.082687</td>\n",
              "      <td>-0.234786</td>\n",
              "      <td>0.705596</td>\n",
              "      <td>-0.020452</td>\n",
              "      <td>-0.532785</td>\n",
              "      <td>0.179279</td>\n",
              "      <td>0.796563</td>\n",
              "      <td>0.679574</td>\n",
              "      <td>0.553179</td>\n",
              "      <td>0.258205</td>\n",
              "      <td>0.795107</td>\n",
              "      <td>0.215939</td>\n",
              "      <td>-0.897990</td>\n",
              "      <td>-0.382161</td>\n",
              "      <td>NaN</td>\n",
              "    </tr>\n",
              "    <tr>\n",
              "      <th>3</th>\n",
              "      <td>0.255048</td>\n",
              "      <td>-0.075186</td>\n",
              "      <td>-0.488543</td>\n",
              "      <td>0.027518</td>\n",
              "      <td>0.067277</td>\n",
              "      <td>0.968932</td>\n",
              "      <td>0.560113</td>\n",
              "      <td>0.651617</td>\n",
              "      <td>-0.329688</td>\n",
              "      <td>0.718424</td>\n",
              "      <td>0.670728</td>\n",
              "      <td>0.190987</td>\n",
              "      <td>-0.510587</td>\n",
              "      <td>-0.385097</td>\n",
              "      <td>0.140092</td>\n",
              "      <td>-0.364302</td>\n",
              "      <td>-0.698746</td>\n",
              "      <td>0.680915</td>\n",
              "      <td>-0.856957</td>\n",
              "      <td>-0.603346</td>\n",
              "      <td>0.044573</td>\n",
              "      <td>-0.017022</td>\n",
              "      <td>0.939820</td>\n",
              "      <td>0.318564</td>\n",
              "      <td>-0.252505</td>\n",
              "      <td>0.405569</td>\n",
              "      <td>0.031403</td>\n",
              "      <td>0.373664</td>\n",
              "      <td>-0.148086</td>\n",
              "      <td>-0.641052</td>\n",
              "      <td>-0.205808</td>\n",
              "      <td>0.486654</td>\n",
              "      <td>-0.389351</td>\n",
              "      <td>0.319691</td>\n",
              "      <td>0.611131</td>\n",
              "      <td>-0.430786</td>\n",
              "      <td>-0.471831</td>\n",
              "      <td>-0.243673</td>\n",
              "      <td>-0.160334</td>\n",
              "      <td>0.039081</td>\n",
              "      <td>...</td>\n",
              "      <td>0.770485</td>\n",
              "      <td>0.375315</td>\n",
              "      <td>-0.576378</td>\n",
              "      <td>-0.529460</td>\n",
              "      <td>0.079616</td>\n",
              "      <td>-0.308187</td>\n",
              "      <td>0.116383</td>\n",
              "      <td>0.371866</td>\n",
              "      <td>-0.915424</td>\n",
              "      <td>-0.931110</td>\n",
              "      <td>-0.039353</td>\n",
              "      <td>-0.293755</td>\n",
              "      <td>-0.904081</td>\n",
              "      <td>-0.254803</td>\n",
              "      <td>-0.285089</td>\n",
              "      <td>0.292556</td>\n",
              "      <td>-0.727264</td>\n",
              "      <td>-0.320211</td>\n",
              "      <td>0.101115</td>\n",
              "      <td>-0.405753</td>\n",
              "      <td>0.959268</td>\n",
              "      <td>-0.847308</td>\n",
              "      <td>0.022341</td>\n",
              "      <td>0.578706</td>\n",
              "      <td>1.011120</td>\n",
              "      <td>-0.077981</td>\n",
              "      <td>-0.289794</td>\n",
              "      <td>0.565825</td>\n",
              "      <td>0.021900</td>\n",
              "      <td>-0.505040</td>\n",
              "      <td>0.316300</td>\n",
              "      <td>0.810130</td>\n",
              "      <td>0.689519</td>\n",
              "      <td>0.561006</td>\n",
              "      <td>0.046976</td>\n",
              "      <td>0.815847</td>\n",
              "      <td>0.214386</td>\n",
              "      <td>-0.914021</td>\n",
              "      <td>-0.402960</td>\n",
              "      <td>NaN</td>\n",
              "    </tr>\n",
              "    <tr>\n",
              "      <th>4</th>\n",
              "      <td>-0.021296</td>\n",
              "      <td>0.065822</td>\n",
              "      <td>-0.422000</td>\n",
              "      <td>0.278026</td>\n",
              "      <td>0.073792</td>\n",
              "      <td>0.998283</td>\n",
              "      <td>0.565609</td>\n",
              "      <td>0.557829</td>\n",
              "      <td>-0.330821</td>\n",
              "      <td>0.736627</td>\n",
              "      <td>0.687580</td>\n",
              "      <td>0.050181</td>\n",
              "      <td>-0.423223</td>\n",
              "      <td>-0.174771</td>\n",
              "      <td>0.211074</td>\n",
              "      <td>-0.412794</td>\n",
              "      <td>-0.706110</td>\n",
              "      <td>0.689733</td>\n",
              "      <td>-0.875316</td>\n",
              "      <td>-0.643542</td>\n",
              "      <td>0.053010</td>\n",
              "      <td>-0.010172</td>\n",
              "      <td>0.958110</td>\n",
              "      <td>0.209957</td>\n",
              "      <td>0.084143</td>\n",
              "      <td>0.302181</td>\n",
              "      <td>-0.033533</td>\n",
              "      <td>0.145139</td>\n",
              "      <td>-0.158799</td>\n",
              "      <td>-0.660095</td>\n",
              "      <td>-0.219989</td>\n",
              "      <td>0.180533</td>\n",
              "      <td>-0.400679</td>\n",
              "      <td>0.339048</td>\n",
              "      <td>0.618457</td>\n",
              "      <td>-0.228242</td>\n",
              "      <td>-0.184040</td>\n",
              "      <td>-0.152755</td>\n",
              "      <td>-0.265374</td>\n",
              "      <td>0.000342</td>\n",
              "      <td>...</td>\n",
              "      <td>0.790229</td>\n",
              "      <td>0.382600</td>\n",
              "      <td>-0.563266</td>\n",
              "      <td>-0.280824</td>\n",
              "      <td>-0.068259</td>\n",
              "      <td>-0.369756</td>\n",
              "      <td>0.105661</td>\n",
              "      <td>0.375889</td>\n",
              "      <td>-0.926342</td>\n",
              "      <td>-0.938867</td>\n",
              "      <td>-0.015986</td>\n",
              "      <td>-0.298715</td>\n",
              "      <td>-0.921518</td>\n",
              "      <td>-0.251351</td>\n",
              "      <td>-0.282556</td>\n",
              "      <td>0.367659</td>\n",
              "      <td>-0.610810</td>\n",
              "      <td>-0.340096</td>\n",
              "      <td>0.065327</td>\n",
              "      <td>-0.409396</td>\n",
              "      <td>0.977795</td>\n",
              "      <td>-0.861910</td>\n",
              "      <td>-0.010483</td>\n",
              "      <td>0.590776</td>\n",
              "      <td>1.023870</td>\n",
              "      <td>-0.071892</td>\n",
              "      <td>-0.360600</td>\n",
              "      <td>0.398209</td>\n",
              "      <td>0.057228</td>\n",
              "      <td>-0.472007</td>\n",
              "      <td>0.470556</td>\n",
              "      <td>0.828881</td>\n",
              "      <td>0.704138</td>\n",
              "      <td>0.573443</td>\n",
              "      <td>-0.214638</td>\n",
              "      <td>0.846150</td>\n",
              "      <td>0.212629</td>\n",
              "      <td>-0.935217</td>\n",
              "      <td>-0.420333</td>\n",
              "      <td>NaN</td>\n",
              "    </tr>\n",
              "  </tbody>\n",
              "</table>\n",
              "<p>5 rows × 1501 columns</p>\n",
              "</div>"
            ],
            "text/plain": [
              "        px0       py0       pz0  ...     py499     pz499  Unnamed: 1501\n",
              "0  0.729257 -0.308426 -0.596371  ... -0.884600 -0.356628            NaN\n",
              "1  0.667783 -0.278821 -0.582226  ... -0.887995 -0.364689            NaN\n",
              "2  0.499080 -0.195798 -0.543466  ... -0.897990 -0.382161            NaN\n",
              "3  0.255048 -0.075186 -0.488543  ... -0.914021 -0.402960            NaN\n",
              "4 -0.021296  0.065822 -0.422000  ... -0.935217 -0.420333            NaN\n",
              "\n",
              "[5 rows x 1501 columns]"
            ]
          },
          "metadata": {
            "tags": []
          },
          "execution_count": 4
        }
      ]
    },
    {
      "cell_type": "code",
      "metadata": {
        "colab": {
          "base_uri": "https://localhost:8080/",
          "height": 202
        },
        "id": "7g5mqWefl4bI",
        "outputId": "d99e65d9-924d-4f51-891a-13e5c02f7dcb"
      },
      "source": [
        "energy_df.head()"
      ],
      "execution_count": null,
      "outputs": [
        {
          "output_type": "execute_result",
          "data": {
            "text/html": [
              "<div>\n",
              "<style scoped>\n",
              "    .dataframe tbody tr th:only-of-type {\n",
              "        vertical-align: middle;\n",
              "    }\n",
              "\n",
              "    .dataframe tbody tr th {\n",
              "        vertical-align: top;\n",
              "    }\n",
              "\n",
              "    .dataframe thead th {\n",
              "        text-align: right;\n",
              "    }\n",
              "</style>\n",
              "<table border=\"1\" class=\"dataframe\">\n",
              "  <thead>\n",
              "    <tr style=\"text-align: right;\">\n",
              "      <th></th>\n",
              "      <th>K</th>\n",
              "      <th>V</th>\n",
              "      <th>total</th>\n",
              "    </tr>\n",
              "  </thead>\n",
              "  <tbody>\n",
              "    <tr>\n",
              "      <th>0</th>\n",
              "      <td>0.499049</td>\n",
              "      <td>-1.03564</td>\n",
              "      <td>-0.536595</td>\n",
              "    </tr>\n",
              "    <tr>\n",
              "      <th>1</th>\n",
              "      <td>1.870870</td>\n",
              "      <td>-2.41093</td>\n",
              "      <td>-0.540060</td>\n",
              "    </tr>\n",
              "    <tr>\n",
              "      <th>2</th>\n",
              "      <td>1.903160</td>\n",
              "      <td>-2.44238</td>\n",
              "      <td>-0.539224</td>\n",
              "    </tr>\n",
              "    <tr>\n",
              "      <th>3</th>\n",
              "      <td>1.910250</td>\n",
              "      <td>-2.44947</td>\n",
              "      <td>-0.539219</td>\n",
              "    </tr>\n",
              "    <tr>\n",
              "      <th>4</th>\n",
              "      <td>1.829730</td>\n",
              "      <td>-2.37045</td>\n",
              "      <td>-0.540712</td>\n",
              "    </tr>\n",
              "  </tbody>\n",
              "</table>\n",
              "</div>"
            ],
            "text/plain": [
              "          K        V     total\n",
              "0  0.499049 -1.03564 -0.536595\n",
              "1  1.870870 -2.41093 -0.540060\n",
              "2  1.903160 -2.44238 -0.539224\n",
              "3  1.910250 -2.44947 -0.539219\n",
              "4  1.829730 -2.37045 -0.540712"
            ]
          },
          "metadata": {
            "tags": []
          },
          "execution_count": 5
        }
      ]
    },
    {
      "cell_type": "code",
      "metadata": {
        "colab": {
          "base_uri": "https://localhost:8080/",
          "height": 300
        },
        "id": "4ojI8qIZl_-p",
        "outputId": "3a96beeb-4536-4dd6-d40c-837117d06d7e"
      },
      "source": [
        "plt.figure()\n",
        "energy_df.plot()"
      ],
      "execution_count": null,
      "outputs": [
        {
          "output_type": "execute_result",
          "data": {
            "text/plain": [
              "<matplotlib.axes._subplots.AxesSubplot at 0x7ff6dcf14950>"
            ]
          },
          "metadata": {
            "tags": []
          },
          "execution_count": 6
        },
        {
          "output_type": "display_data",
          "data": {
            "text/plain": [
              "<Figure size 432x288 with 0 Axes>"
            ]
          },
          "metadata": {
            "tags": []
          }
        },
        {
          "output_type": "display_data",
          "data": {
            "image/png": "[encoded data removed]",
            "text/plain": [
              "<Figure size 432x288 with 1 Axes>"
            ]
          },
          "metadata": {
            "tags": [],
            "needs_background": "light"
          }
        }
      ]
    },
    {
      "cell_type": "code",
      "metadata": {
        "colab": {
          "base_uri": "https://localhost:8080/"
        },
        "id": "6QpSozcppDCY",
        "outputId": "63146d19-c5eb-4600-f5bb-b589e27b7397"
      },
      "source": [
        "velocity_df.sum(axis=1)"
      ],
      "execution_count": null,
      "outputs": [
        {
          "output_type": "execute_result",
          "data": {
            "text/plain": [
              "0      -9.060000e-07\n",
              "1       2.340000e-06\n",
              "2       1.605800e-05\n",
              "3       2.800000e-05\n",
              "4      -4.369000e-05\n",
              "            ...     \n",
              "9995    2.028800e-05\n",
              "9996   -1.459400e-04\n",
              "9997   -7.698100e-05\n",
              "9998   -7.620000e-06\n",
              "9999    3.114000e-06\n",
              "Length: 10000, dtype: float64"
            ]
          },
          "metadata": {
            "tags": []
          },
          "execution_count": 7
        }
      ]
    },
    {
      "cell_type": "code",
      "metadata": {
        "colab": {
          "base_uri": "https://localhost:8080/",
          "height": 283
        },
        "id": "3Jr16FKoSfcf",
        "outputId": "9554efa7-e831-4dce-f90c-71267911a551"
      },
      "source": [
        "plt.figure()\n",
        "plt.axis(xmax=250)\n",
        "velocity_df.var(axis=1).plot()"
      ],
      "execution_count": null,
      "outputs": [
        {
          "output_type": "execute_result",
          "data": {
            "text/plain": [
              "<matplotlib.axes._subplots.AxesSubplot at 0x7ff6dce82890>"
            ]
          },
          "metadata": {
            "tags": []
          },
          "execution_count": 8
        },
        {
          "output_type": "display_data",
          "data": {
            "image/png": "[encoded data removed]",
            "text/plain": [
              "<Figure size 432x288 with 1 Axes>"
            ]
          },
          "metadata": {
            "tags": [],
            "needs_background": "light"
          }
        }
      ]
    },
    {
      "cell_type": "markdown",
      "metadata": {
        "id": "-83PQHznSPi5"
      },
      "source": [
        "ここまでで\n",
        " - 運動エネルギーとポテンシャルエネルギーの総和が保存していること\n",
        " - 速度の分散は観測一回目、すなわち初期状態以降はほとんど一定（**定量的に評価したい**）であること\n",
        "\n",
        "以上のことがわかった。\n",
        "\n",
        "ここからは拡散定数$D$を速度の自己相関関数から求める。このとき、熱平衡に達しているという条件と観測した時間$t$の長さが十分であるとして、教科書の近似を行い、それによって得られた式\n",
        "\n",
        "$$\n",
        "    D = \\frac{1}{3} \\int^{\\tau}_{0} \\left< v(0) \\cdot v(t) \\right>dt\n",
        "$$\n",
        "\n",
        "を利用する。"
      ]
    },
    {
      "cell_type": "markdown",
      "metadata": {
        "id": "wAa5ydOa80Yl"
      },
      "source": [
        "$$\n",
        "D = \\frac{1}{3} \\sum^{\\tau}_{t = 0}\\left< v(0) \\cdot v(t) \\right>\n",
        "$$"
      ]
    },
    {
      "cell_type": "code",
      "metadata": {
        "colab": {
          "base_uri": "https://localhost:8080/"
        },
        "id": "S6zLpKN_DmTB",
        "outputId": "3d69b361-b1e8-4f29-ba6f-84472e6f3ed8"
      },
      "source": [
        "velocity_df.columns"
      ],
      "execution_count": null,
      "outputs": [
        {
          "output_type": "execute_result",
          "data": {
            "text/plain": [
              "Index(['px0', 'py0', 'pz0', 'px1', 'py1', 'pz1', 'px2', 'py2', 'pz2', 'px3',\n",
              "       ...\n",
              "       'px497', 'py497', 'pz497', 'px498', 'py498', 'pz498', 'px499', 'py499',\n",
              "       'pz499', 'Unnamed: 1501'],\n",
              "      dtype='object', length=1501)"
            ]
          },
          "metadata": {
            "tags": []
          },
          "execution_count": 9
        }
      ]
    },
    {
      "cell_type": "code",
      "metadata": {
        "colab": {
          "base_uri": "https://localhost:8080/"
        },
        "id": "W1peRuQiwz2s",
        "outputId": "b24b2906-09af-4d56-f815-ad374a4c338d"
      },
      "source": [
        "velocity_df.index"
      ],
      "execution_count": null,
      "outputs": [
        {
          "output_type": "execute_result",
          "data": {
            "text/plain": [
              "RangeIndex(start=0, stop=10000, step=1)"
            ]
          },
          "metadata": {
            "tags": []
          },
          "execution_count": 10
        }
      ]
    },
    {
      "cell_type": "code",
      "metadata": {
        "id": "isJrIwH48bke"
      },
      "source": [
        "TIME_SHIFT = 100\n",
        "STEPS = 10000"
      ],
      "execution_count": null,
      "outputs": []
    },
    {
      "cell_type": "code",
      "metadata": {
        "colab": {
          "base_uri": "https://localhost:8080/"
        },
        "id": "6ntIxuwm7zik",
        "outputId": "ce234bdf-276d-44ed-8189-fd8a1d0e4740"
      },
      "source": [
        "velocity_df.iloc[0][0]"
      ],
      "execution_count": null,
      "outputs": [
        {
          "output_type": "execute_result",
          "data": {
            "text/plain": [
              "0.7292569999999999"
            ]
          },
          "metadata": {
            "tags": []
          },
          "execution_count": 12
        }
      ]
    },
    {
      "cell_type": "code",
      "metadata": {
        "colab": {
          "base_uri": "https://localhost:8080/"
        },
        "id": "4GSuhaM8soE4",
        "outputId": "3c160026-2b76-4797-9c28-855e2e5c30c6"
      },
      "source": [
        "def velocity_autocorrelation_function(t_max, v_df):\n",
        "    numbers_of_reiteration = STEPS//(TIME_SHIFT + t_max)\n",
        "    product_start_and_end_df = pd.DataFrame(index=velocity_df.index)\n",
        "    for i in range(1, numbers_of_reiteration):\n",
        "        start_point = i * (t_max + TIME_SHIFT)\n",
        "        end_point = start_point + t_max\n",
        "        start_points_df = v_df[::start_point]\n",
        "        end_points_df = v_df[::end_point]\n",
        "        if (len(start_points_df.index) < len(end_points_df.index)):\n",
        "            end_points_df.drop(end_points_df.index[-1], inplace=True)\n",
        "        product_start_and_end_df = start_points_df * end_points_df\n",
        "    print(product_start_and_end_df.head()\n",
        "\n",
        "velocity_autocorrelation_function(1, velocity_df)"
      ],
      "execution_count": null,
      "outputs": [
        {
          "output_type": "stream",
          "text": [
            "px0    0.531816\n",
            "py0    0.095127\n",
            "pz0    0.355658\n",
            "px1    0.176244\n",
            "py1    0.003371\n",
            "dtype: float64\n"
          ],
          "name": "stdout"
        }
      ]
    },
    {
      "cell_type": "code",
      "metadata": {
        "id": "k8jkG04oAomn"
      },
      "source": [
        ""
      ],
      "execution_count": null,
      "outputs": []
    }
  ]
}